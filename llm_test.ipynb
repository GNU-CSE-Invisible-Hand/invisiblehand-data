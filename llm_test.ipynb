{
 "cells": [
  {
   "cell_type": "markdown",
   "metadata": {},
   "source": [
    "# LLM 뉴스 요약"
   ]
  },
  {
   "cell_type": "code",
   "execution_count": null,
   "metadata": {},
   "outputs": [],
   "source": [
    "from api_wrapper import ApiWrapper\n",
    "\n",
    "api = ApiWrapper()\n",
    "\n",
    "news_list = api.get_news_data()\n",
    "news_list"
   ]
  },
  {
   "cell_type": "code",
   "execution_count": null,
   "metadata": {},
   "outputs": [],
   "source": [
    "news_list[\"AAPL\"]"
   ]
  },
  {
   "cell_type": "code",
   "execution_count": null,
   "metadata": {},
   "outputs": [],
   "source": [
    "target = news_list[\"AAPL\"]\n",
    "\n",
    "name = \"애플\"\n",
    "\n",
    "data = []\n",
    "for i in target:\n",
    "    data.append(i[\"title\"].replace(\":\", \"\")  + \" : \" + i[\"description\"].replace(\":\", \"\"))\n",
    "\n",
    "data"
   ]
  },
  {
   "cell_type": "code",
   "execution_count": null,
   "metadata": {},
   "outputs": [],
   "source": [
    "import torch\n",
    "from transformers import AutoModelForCausalLM, AutoTokenizer, TextIteratorStreamer\n",
    "from threading import Thread\n",
    "\n",
    "model_name = \"LGAI-EXAONE/EXAONE-Deep-7.8B\"\n",
    "streaming = False    # choose the streaming option\n",
    "\n",
    "model = AutoModelForCausalLM.from_pretrained(\n",
    "    model_name,\n",
    "    torch_dtype=torch.bfloat16,\n",
    "    trust_remote_code=True,\n",
    "    device_map=\"auto\"\n",
    ")\n",
    "tokenizer = AutoTokenizer.from_pretrained(model_name)\n",
    "\n",
    "\n",
    "prompt = \\\n",
    "f\"\"\"\n",
    "당신은 탁월한 증권사 애널리스트입니다.\n",
    "당신은 지금 {name} 종목의 분석 보고서를 발간해야 합니다.\n",
    "\n",
    "[요구 사항]\n",
    "{name} 기업의 주요 헤드라인을 검토하고, 분석 보고서에 들어갈 시황, 주요 이슈를 2000자로 구성된 {name} 기업 분석 보고서를 만들어 주세요.\n",
    "개인 투자자 입장에서 주의하거나 생각해봐야 할 시사점들이 있다면 분석 보고서에 반영해 주세요.\n",
    "주요 헤드라인의 모든 내용이 {name} 기업과 연관되어 있지 않을 수도 있습니다. 이 경우 관련 내용을 담은 헤드라인만 보고서에 반영해 주세요.\n",
    "\n",
    "[참고 사항]\n",
    "주요 헤드라인은 한 줄의 '[기사 제목]: [description]' 으로 구성되어 있습니다.\n",
    "\n",
    "[이 시각 {name} 기업의 주요 헤드라인]\n",
    "{\"\\n\".join(data)}\n",
    "\n",
    "\"\"\"\n",
    "\n",
    "messages = [\n",
    "    {\"role\": \"user\", \"content\": prompt}\n",
    "]\n",
    "input_ids = tokenizer.apply_chat_template(\n",
    "    messages,\n",
    "    tokenize=True,\n",
    "    add_generation_prompt=True,\n",
    "    return_tensors=\"pt\"\n",
    ")\n",
    "\n",
    "if streaming:\n",
    "    streamer = TextIteratorStreamer(tokenizer)\n",
    "    thread = Thread(target=model.generate, kwargs=dict(\n",
    "        input_ids=input_ids.to(\"cuda\"),\n",
    "        eos_token_id=tokenizer.eos_token_id,\n",
    "        max_new_tokens=32768,\n",
    "        do_sample=True,\n",
    "        temperature=0.8,\n",
    "        top_p=0.95,\n",
    "        streamer=streamer\n",
    "    ))\n",
    "    thread.start()\n",
    "\n",
    "    for text in streamer:\n",
    "        print(text, end=\"\", flush=True)\n",
    "else:\n",
    "    output = model.generate(\n",
    "        input_ids.to(\"cuda\"),\n",
    "        eos_token_id=tokenizer.eos_token_id,\n",
    "        max_new_tokens=32768,\n",
    "        do_sample=True,\n",
    "        temperature=0.8,\n",
    "        top_p=0.95,\n",
    "    )\n",
    "    print(tokenizer.decode(output[0]))"
   ]
  },
  {
   "cell_type": "code",
   "execution_count": null,
   "metadata": {},
   "outputs": [],
   "source": [
    "result = tokenizer.decode(output[0]).split(\"</thought>\")[1].replace(\"[|endofturn|]\", \"\")"
   ]
  },
  {
   "cell_type": "code",
   "execution_count": null,
   "metadata": {},
   "outputs": [],
   "source": [
    "prompt = \\\n",
    "f\"\"\"\n",
    "당신은 탁월한 경제 연구원입니다.\n",
    "당신은 지금 {name} 종목의 분석 보고서를 발간해야 합니다.\n",
    "\n",
    "[요구 사항]\n",
    "다음 [초안]을 보고, 세 문단으로 구성된 보고서 최종본을 만들어 주세요.\n",
    "\n",
    "[제약 사항]\n",
    "각각의 문단은 연속되고 완결된 문장으로 구성되어야 합니다.\n",
    "별도의 소제목이나 구분 기호는 넣지 말아 주세요.\n",
    "문장 간 연결은 자연스럽고 매끄러워야 합니다. 필요하다면 문단을 추가할 수 있습니다.\n",
    "\n",
    "[초안]\n",
    "{result}\n",
    "\"\"\"\n",
    "\n",
    "messages = [\n",
    "    {\"role\": \"user\", \"content\": prompt}\n",
    "]\n",
    "input_ids = tokenizer.apply_chat_template(\n",
    "    messages,\n",
    "    tokenize=True,\n",
    "    add_generation_prompt=True,\n",
    "    return_tensors=\"pt\"\n",
    ")\n",
    "\n",
    "if streaming:\n",
    "    streamer = TextIteratorStreamer(tokenizer)\n",
    "    thread = Thread(target=model.generate, kwargs=dict(\n",
    "        input_ids=input_ids.to(\"cuda\"),\n",
    "        eos_token_id=tokenizer.eos_token_id,\n",
    "        max_new_tokens=32768,\n",
    "        do_sample=True,\n",
    "        temperature=0.8,\n",
    "        top_p=0.95,\n",
    "        streamer=streamer\n",
    "    ))\n",
    "    thread.start()\n",
    "\n",
    "    for text in streamer:\n",
    "        print(text, end=\"\", flush=True)\n",
    "else:\n",
    "    output = model.generate(\n",
    "        input_ids.to(\"cuda\"),\n",
    "        eos_token_id=tokenizer.eos_token_id,\n",
    "        max_new_tokens=32768,\n",
    "        do_sample=True,\n",
    "        temperature=0.8,\n",
    "        top_p=0.95,\n",
    "    )\n",
    "    print(tokenizer.decode(output[0]))"
   ]
  },
  {
   "cell_type": "code",
   "execution_count": null,
   "metadata": {},
   "outputs": [],
   "source": [
    "result = tokenizer.decode(output[0]).split(\"</thought>\")[1].replace(\"[|endofturn|]\", \"\")\n",
    "print(result)"
   ]
  }
 ],
 "metadata": {
  "kernelspec": {
   "display_name": "base",
   "language": "python",
   "name": "python3"
  },
  "language_info": {
   "codemirror_mode": {
    "name": "ipython",
    "version": 3
   },
   "file_extension": ".py",
   "mimetype": "text/x-python",
   "name": "python",
   "nbconvert_exporter": "python",
   "pygments_lexer": "ipython3",
   "version": "3.12.9"
  }
 },
 "nbformat": 4,
 "nbformat_minor": 2
}
